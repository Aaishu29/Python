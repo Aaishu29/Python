{
 "cells": [
  {
   "cell_type": "code",
   "execution_count": 1,
   "metadata": {},
   "outputs": [
    {
     "name": "stdout",
     "output_type": "stream",
     "text": [
      "{5: 0.9333333333333332, 200: 0.9333333333333332, 10: 0.9333333333333332, 50: 0.9416666666666667, 150: 0.9333333333333332}\n",
      "[0.9333333333333332, 0.9333333333333332, 0.9333333333333332, 0.9416666666666667, 0.9333333333333332]\n"
     ]
    }
   ],
   "source": [
    "from sklearn.datasets import load_iris\n",
    "from matplotlib import pyplot as plt\n",
    "from sklearn.model_selection import cross_val_score\n",
    "from sklearn.tree import DecisionTreeClassifier\n",
    "from sklearn.model_selection import KFold\n",
    "from sklearn.model_selection import train_test_split\n",
    "from sklearn.ensemble import RandomForestClassifier\n",
    "from sklearn.ensemble import GradientBoostingClassifier\n",
    "import seaborn as sns\n",
    "max_depth={3,5,10,None}\n",
    "n_o_t={5,10,50,150,200}\n",
    "scores=[]\n",
    "\n",
    "X, y = load_iris(return_X_y=True)\n",
    "kf=KFold(n_splits=10)\n",
    "\n",
    "X_train_validate,X_test,y_train_validate,y_test = train_test_split(X,y,test_size=0.2,random_state=42)\n",
    "\n",
    "scores2=[]\n",
    "score_gradient_boosting={}\n",
    "for n in n_o_t:\n",
    "    clf2 = GradientBoostingClassifier(n_estimators=n,random_state=42)\n",
    "    score=cross_val_score(clf2,X_train_validate,y_train_validate,cv=kf)\n",
    "    scores2.append(score.mean())\n",
    "    score_gradient_boosting[n]=score.mean()\n",
    "print(score_gradient_boosting)\n",
    "print(scores2)"
   ]
  },
  {
   "cell_type": "code",
   "execution_count": null,
   "metadata": {},
   "outputs": [],
   "source": []
  }
 ],
 "metadata": {
  "kernelspec": {
   "display_name": "Python 3",
   "language": "python",
   "name": "python3"
  },
  "language_info": {
   "codemirror_mode": {
    "name": "ipython",
    "version": 3
   },
   "file_extension": ".py",
   "mimetype": "text/x-python",
   "name": "python",
   "nbconvert_exporter": "python",
   "pygments_lexer": "ipython3",
   "version": "3.7.3"
  }
 },
 "nbformat": 4,
 "nbformat_minor": 4
}
